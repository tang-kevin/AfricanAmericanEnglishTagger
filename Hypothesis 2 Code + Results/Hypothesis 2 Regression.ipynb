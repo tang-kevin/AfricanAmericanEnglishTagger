{
 "cells": [
  {
   "cell_type": "code",
   "execution_count": null,
   "id": "a680e263-e1c3-40a6-96be-1d4265fcf852",
   "metadata": {},
   "outputs": [],
   "source": [
    "# Import modules\n",
    "import statsmodels.api as sm\n",
    "import pandas as pd"
   ]
  },
  {
   "cell_type": "code",
   "execution_count": 5,
   "id": "d43fe3b6-c76f-4df8-b177-9c160e22eb5a",
   "metadata": {},
   "outputs": [],
   "source": [
    "# Import habitual be few shot data\n",
    "hb = pd.read_csv('few shot habitual be hypothesis 2.txt', sep = '\\t')"
   ]
  },
  {
   "cell_type": "code",
   "execution_count": 160,
   "id": "906f6df1-e79a-49ab-8a24-fbac9ffd2e05",
   "metadata": {},
   "outputs": [],
   "source": [
    "# Fit the logistic regression for habitual be few shot\n",
    "y = hb['Prediction']\n",
    "x = hb[['Hyp_2', 'True_Label']]\n",
    "x = sm.add_constant(x)\n",
    "model = sm.Logit(y, x)"
   ]
  },
  {
   "cell_type": "code",
   "execution_count": null,
   "id": "8f9596cb-b1bf-430d-b7eb-b96852a842d6",
   "metadata": {},
   "outputs": [],
   "source": [
    "# Print the logistic regression results for habitual be few shot\n",
    "results = model.fit()\n",
    "print(results.summary())"
   ]
  },
  {
   "cell_type": "code",
   "execution_count": 13,
   "id": "cf7c8964-4431-477d-b659-07cbd3b68160",
   "metadata": {},
   "outputs": [],
   "source": [
    "# Import habitual be zero shot data\n",
    "hbzs = pd.read_csv('zero shot habitual be hypothesis 2.txt', sep = '\\t')"
   ]
  },
  {
   "cell_type": "code",
   "execution_count": 154,
   "id": "326772fa-31a0-4274-bdd4-b6c51b5874b5",
   "metadata": {},
   "outputs": [],
   "source": [
    "# Fit the logistic regression for habitual be zero shot\n",
    "y = hbzs['Prediction']\n",
    "x = hbzs[['Hyp_2', 'True_Label']]\n",
    "x = sm.add_constant(x)\n",
    "model = sm.Logit(y, x)"
   ]
  },
  {
   "cell_type": "code",
   "execution_count": null,
   "id": "5ab845e3-3c49-458d-8a59-cb9a431b61cc",
   "metadata": {},
   "outputs": [],
   "source": [
    "# Print the logistic regression results for habitual be zero shot\n",
    "results = model.fit()\n",
    "print(results.summary())"
   ]
  },
  {
   "cell_type": "code",
   "execution_count": 32,
   "id": "81dd66f9-c37a-49be-8d3a-f6869f4f3d22",
   "metadata": {},
   "outputs": [],
   "source": [
    "# Import multiple negation few shot data\n",
    "mn = pd.read_csv('few shot multiple negation hypothesis 2.txt', sep = '\\t')"
   ]
  },
  {
   "cell_type": "code",
   "execution_count": 34,
   "id": "96c3fc4f-658c-4080-8ba9-111930f2d709",
   "metadata": {},
   "outputs": [],
   "source": [
    "# Fit the logistic regression for multiple negation few shot\n",
    "y = mn['Model_Pred']\n",
    "x = mn[['Hyp_2', 'True_Pred']]\n",
    "x = sm.add_constant(x)\n",
    "model = sm.Logit(y, x)"
   ]
  },
  {
   "cell_type": "code",
   "execution_count": null,
   "id": "957b1497-6674-49a3-a1a1-216d0fb588ae",
   "metadata": {},
   "outputs": [],
   "source": [
    "# Print the logistic regression results for multiple negation few shot\n",
    "results = model.fit()\n",
    "print(results.summary())"
   ]
  },
  {
   "cell_type": "code",
   "execution_count": 17,
   "id": "7b61aabd-cfc6-4c34-a4e3-f5ffa54dd151",
   "metadata": {},
   "outputs": [],
   "source": [
    "# Import multiple negation zero shot data\n",
    "mnzs = pd.read_csv('zero shot multiple negation hypothesis 2.txt', sep = '\\t')"
   ]
  },
  {
   "cell_type": "code",
   "execution_count": 26,
   "id": "e3f78cf2-b0a0-448b-a01a-fd70d8e9e10d",
   "metadata": {},
   "outputs": [],
   "source": [
    "# Fit the logistic regression for multiple negation zero shot\n",
    "y = mnzs['Model_Pred']\n",
    "x = mnzs[['Hyp_2', 'True_Pred']]\n",
    "x = sm.add_constant(x)\n",
    "model = sm.Logit(y, x)"
   ]
  },
  {
   "cell_type": "code",
   "execution_count": null,
   "id": "673647ff-bb9d-411b-88f4-aa7392ef8014",
   "metadata": {},
   "outputs": [],
   "source": [
    "# Print the logistic regression results for multiple negation zero shot\n",
    "results = model.fit()\n",
    "print(results.summary())"
   ]
  }
 ],
 "metadata": {
  "kernelspec": {
   "display_name": "Python 3 (ipykernel)",
   "language": "python",
   "name": "python3"
  },
  "language_info": {
   "codemirror_mode": {
    "name": "ipython",
    "version": 3
   },
   "file_extension": ".py",
   "mimetype": "text/x-python",
   "name": "python",
   "nbconvert_exporter": "python",
   "pygments_lexer": "ipython3",
   "version": "3.9.19"
  }
 },
 "nbformat": 4,
 "nbformat_minor": 5
}
